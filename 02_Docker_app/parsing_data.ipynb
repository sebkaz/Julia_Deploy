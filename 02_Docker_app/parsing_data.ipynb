{
 "cells": [
  {
   "cell_type": "code",
   "execution_count": 3,
   "id": "0c497c90-b536-4500-a416-60481c2a6fe4",
   "metadata": {},
   "outputs": [],
   "source": [
    "import pandas as pd"
   ]
  },
  {
   "cell_type": "code",
   "execution_count": 45,
   "id": "3f5250d5-b566-4a05-8467-ee8def30e2cf",
   "metadata": {},
   "outputs": [],
   "source": [
    "result = {\"CRIM\":[],\"ZN\":[],\"INDUS\":[],\n",
    "\"CHAS\":[],\n",
    "\"NOX\":[],\n",
    "\"RM\":[],\n",
    "\"AGE\":[],\n",
    "\"DIS\":[],\n",
    "\"RAD\":[],\n",
    "\"TAX\":[],\n",
    "\"PTRATIO\":[],\n",
    "\"B\":[],\n",
    "\"LSTAT\":[],\n",
    "\"MEDV\":[]}\n",
    "\n",
    "with open('housing.data', 'r') as f:\n",
    "    \n",
    "    for ix, el in enumerate(f.read().split()):\n",
    "        #print(float(el), ix%14)\n",
    "        if ix%14 == 0:\n",
    "            result['CRIM'].append(float(el))\n",
    "        elif ix%14 == 1:\n",
    "            result['ZN'].append(float(el))\n",
    "        elif ix%14 == 2:\n",
    "            result['INDUS'].append(float(el))\n",
    "        elif ix%14 == 3:\n",
    "            result['CHAS'].append(float(el))\n",
    "        elif ix%14 == 4:\n",
    "            result['NOX'].append(float(el))\n",
    "        elif ix%14 == 5:\n",
    "            result['RM'].append(float(el))\n",
    "        elif ix%14 == 6:\n",
    "            result['AGE'].append(float(el))\n",
    "        elif ix%14 == 7:\n",
    "            result['DIS'].append(float(el))\n",
    "        elif ix%14 == 8:\n",
    "            result['RAD'].append(float(el))\n",
    "        elif ix%14 == 9:\n",
    "            result['TAX'].append(float(el))\n",
    "        elif ix%14 == 10:\n",
    "            result['PTRATIO'].append(float(el))\n",
    "        elif ix%14 == 11:\n",
    "            result['B'].append(float(el))\n",
    "        elif ix%14 == 12:\n",
    "            result['LSTAT'].append(float(el))\n",
    "        else:\n",
    "            result['MEDV'].append(float(el))\n",
    "        \n",
    "            "
   ]
  },
  {
   "cell_type": "code",
   "execution_count": null,
   "id": "2019c71d-22f7-471f-957b-7420a73747be",
   "metadata": {},
   "outputs": [],
   "source": []
  },
  {
   "cell_type": "code",
   "execution_count": 46,
   "id": "4b02233a-151c-4dfd-bb3e-fcf68d7f1bfb",
   "metadata": {},
   "outputs": [],
   "source": [
    "df = pd.DataFrame(result)"
   ]
  },
  {
   "cell_type": "code",
   "execution_count": 47,
   "id": "bcaf6d9e-9699-4325-8538-1cfe48c0452c",
   "metadata": {},
   "outputs": [
    {
     "name": "stdout",
     "output_type": "stream",
     "text": [
      "<class 'pandas.core.frame.DataFrame'>\n",
      "RangeIndex: 506 entries, 0 to 505\n",
      "Data columns (total 14 columns):\n",
      " #   Column   Non-Null Count  Dtype  \n",
      "---  ------   --------------  -----  \n",
      " 0   CRIM     506 non-null    float64\n",
      " 1   ZN       506 non-null    float64\n",
      " 2   INDUS    506 non-null    float64\n",
      " 3   CHAS     506 non-null    float64\n",
      " 4   NOX      506 non-null    float64\n",
      " 5   RM       506 non-null    float64\n",
      " 6   AGE      506 non-null    float64\n",
      " 7   DIS      506 non-null    float64\n",
      " 8   RAD      506 non-null    float64\n",
      " 9   TAX      506 non-null    float64\n",
      " 10  PTRATIO  506 non-null    float64\n",
      " 11  B        506 non-null    float64\n",
      " 12  LSTAT    506 non-null    float64\n",
      " 13  MEDV     506 non-null    float64\n",
      "dtypes: float64(14)\n",
      "memory usage: 55.5 KB\n"
     ]
    }
   ],
   "source": [
    "df.info()"
   ]
  },
  {
   "cell_type": "code",
   "execution_count": 48,
   "id": "17d2343d-8071-412b-a8a2-3f378521f3b3",
   "metadata": {},
   "outputs": [],
   "source": [
    "df.to_csv('housing.csv', index=False)"
   ]
  },
  {
   "cell_type": "code",
   "execution_count": null,
   "id": "662b6e94-855c-45b2-afbe-b2784794e3c8",
   "metadata": {},
   "outputs": [],
   "source": []
  }
 ],
 "metadata": {
  "kernelspec": {
   "display_name": "Python 3 (ipykernel)",
   "language": "python",
   "name": "python3"
  },
  "language_info": {
   "codemirror_mode": {
    "name": "ipython",
    "version": 3
   },
   "file_extension": ".py",
   "mimetype": "text/x-python",
   "name": "python",
   "nbconvert_exporter": "python",
   "pygments_lexer": "ipython3",
   "version": "3.10.8"
  }
 },
 "nbformat": 4,
 "nbformat_minor": 5
}
